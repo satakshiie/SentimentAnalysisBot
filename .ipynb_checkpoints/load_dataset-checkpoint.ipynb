{
 "cells": [
  {
   "cell_type": "code",
   "execution_count": 2,
   "id": "1c635bb7-8484-4ed6-b38c-b60a6e9e0ce9",
   "metadata": {},
   "outputs": [
    {
     "name": "stdout",
     "output_type": "stream",
     "text": [
      "Collecting datasets\n",
      "  Downloading datasets-3.4.0-py3-none-any.whl.metadata (19 kB)\n",
      "Requirement already satisfied: filelock in /Library/Frameworks/Python.framework/Versions/3.12/lib/python3.12/site-packages (from datasets) (3.17.0)\n",
      "Requirement already satisfied: numpy>=1.17 in /Library/Frameworks/Python.framework/Versions/3.12/lib/python3.12/site-packages (from datasets) (2.2.3)\n",
      "Collecting pyarrow>=15.0.0 (from datasets)\n",
      "  Downloading pyarrow-19.0.1-cp312-cp312-macosx_12_0_arm64.whl.metadata (3.3 kB)\n",
      "Collecting dill<0.3.9,>=0.3.0 (from datasets)\n",
      "  Downloading dill-0.3.8-py3-none-any.whl.metadata (10 kB)\n",
      "Collecting pandas (from datasets)\n",
      "  Downloading pandas-2.2.3-cp312-cp312-macosx_11_0_arm64.whl.metadata (89 kB)\n",
      "Requirement already satisfied: requests>=2.32.2 in /Library/Frameworks/Python.framework/Versions/3.12/lib/python3.12/site-packages (from datasets) (2.32.3)\n",
      "Requirement already satisfied: tqdm>=4.66.3 in /Library/Frameworks/Python.framework/Versions/3.12/lib/python3.12/site-packages (from datasets) (4.67.1)\n",
      "Collecting xxhash (from datasets)\n",
      "  Downloading xxhash-3.5.0-cp312-cp312-macosx_11_0_arm64.whl.metadata (12 kB)\n",
      "Collecting multiprocess<0.70.17 (from datasets)\n",
      "  Downloading multiprocess-0.70.16-py312-none-any.whl.metadata (7.2 kB)\n",
      "Collecting fsspec<=2024.12.0,>=2023.1.0 (from fsspec[http]<=2024.12.0,>=2023.1.0->datasets)\n",
      "  Downloading fsspec-2024.12.0-py3-none-any.whl.metadata (11 kB)\n",
      "Collecting aiohttp (from datasets)\n",
      "  Downloading aiohttp-3.11.14-cp312-cp312-macosx_11_0_arm64.whl.metadata (7.7 kB)\n",
      "Requirement already satisfied: huggingface-hub>=0.24.0 in /Library/Frameworks/Python.framework/Versions/3.12/lib/python3.12/site-packages (from datasets) (0.29.2)\n",
      "Requirement already satisfied: packaging in /Library/Frameworks/Python.framework/Versions/3.12/lib/python3.12/site-packages (from datasets) (24.2)\n",
      "Requirement already satisfied: pyyaml>=5.1 in /Library/Frameworks/Python.framework/Versions/3.12/lib/python3.12/site-packages (from datasets) (6.0.2)\n",
      "Collecting aiohappyeyeballs>=2.3.0 (from aiohttp->datasets)\n",
      "  Downloading aiohappyeyeballs-2.6.1-py3-none-any.whl.metadata (5.9 kB)\n",
      "Collecting aiosignal>=1.1.2 (from aiohttp->datasets)\n",
      "  Downloading aiosignal-1.3.2-py2.py3-none-any.whl.metadata (3.8 kB)\n",
      "Requirement already satisfied: attrs>=17.3.0 in /Library/Frameworks/Python.framework/Versions/3.12/lib/python3.12/site-packages (from aiohttp->datasets) (25.3.0)\n",
      "Collecting frozenlist>=1.1.1 (from aiohttp->datasets)\n",
      "  Downloading frozenlist-1.5.0-cp312-cp312-macosx_11_0_arm64.whl.metadata (13 kB)\n",
      "Collecting multidict<7.0,>=4.5 (from aiohttp->datasets)\n",
      "  Downloading multidict-6.1.0-cp312-cp312-macosx_11_0_arm64.whl.metadata (5.0 kB)\n",
      "Collecting propcache>=0.2.0 (from aiohttp->datasets)\n",
      "  Downloading propcache-0.3.0-cp312-cp312-macosx_11_0_arm64.whl.metadata (10 kB)\n",
      "Collecting yarl<2.0,>=1.17.0 (from aiohttp->datasets)\n",
      "  Downloading yarl-1.18.3-cp312-cp312-macosx_11_0_arm64.whl.metadata (69 kB)\n",
      "Requirement already satisfied: typing-extensions>=3.7.4.3 in /Library/Frameworks/Python.framework/Versions/3.12/lib/python3.12/site-packages (from huggingface-hub>=0.24.0->datasets) (4.12.2)\n",
      "Requirement already satisfied: charset-normalizer<4,>=2 in /Library/Frameworks/Python.framework/Versions/3.12/lib/python3.12/site-packages (from requests>=2.32.2->datasets) (3.4.1)\n",
      "Requirement already satisfied: idna<4,>=2.5 in /Library/Frameworks/Python.framework/Versions/3.12/lib/python3.12/site-packages (from requests>=2.32.2->datasets) (3.10)\n",
      "Requirement already satisfied: urllib3<3,>=1.21.1 in /Library/Frameworks/Python.framework/Versions/3.12/lib/python3.12/site-packages (from requests>=2.32.2->datasets) (2.3.0)\n",
      "Requirement already satisfied: certifi>=2017.4.17 in /Library/Frameworks/Python.framework/Versions/3.12/lib/python3.12/site-packages (from requests>=2.32.2->datasets) (2025.1.31)\n",
      "Requirement already satisfied: python-dateutil>=2.8.2 in /Library/Frameworks/Python.framework/Versions/3.12/lib/python3.12/site-packages (from pandas->datasets) (2.9.0.post0)\n",
      "Collecting pytz>=2020.1 (from pandas->datasets)\n",
      "  Downloading pytz-2025.1-py2.py3-none-any.whl.metadata (22 kB)\n",
      "Collecting tzdata>=2022.7 (from pandas->datasets)\n",
      "  Downloading tzdata-2025.1-py2.py3-none-any.whl.metadata (1.4 kB)\n",
      "Requirement already satisfied: six>=1.5 in /Library/Frameworks/Python.framework/Versions/3.12/lib/python3.12/site-packages (from python-dateutil>=2.8.2->pandas->datasets) (1.17.0)\n",
      "Downloading datasets-3.4.0-py3-none-any.whl (487 kB)\n",
      "Downloading dill-0.3.8-py3-none-any.whl (116 kB)\n",
      "Downloading fsspec-2024.12.0-py3-none-any.whl (183 kB)\n",
      "Downloading aiohttp-3.11.14-cp312-cp312-macosx_11_0_arm64.whl (456 kB)\n",
      "Downloading multiprocess-0.70.16-py312-none-any.whl (146 kB)\n",
      "Downloading pyarrow-19.0.1-cp312-cp312-macosx_12_0_arm64.whl (30.7 MB)\n",
      "\u001b[2K   \u001b[90m━━━━━━━━━━━━━━━━━━━━━━━━━━━━━━━━━━━━━━━━\u001b[0m \u001b[32m30.7/30.7 MB\u001b[0m \u001b[31m13.8 MB/s\u001b[0m eta \u001b[36m0:00:00\u001b[0ma \u001b[36m0:00:01\u001b[0m\n",
      "\u001b[?25hDownloading pandas-2.2.3-cp312-cp312-macosx_11_0_arm64.whl (11.4 MB)\n",
      "\u001b[2K   \u001b[90m━━━━━━━━━━━━━━━━━━━━━━━━━━━━━━━━━━━━━━━━\u001b[0m \u001b[32m11.4/11.4 MB\u001b[0m \u001b[31m15.2 MB/s\u001b[0m eta \u001b[36m0:00:00\u001b[0ma \u001b[36m0:00:01\u001b[0m\n",
      "\u001b[?25hDownloading xxhash-3.5.0-cp312-cp312-macosx_11_0_arm64.whl (30 kB)\n",
      "Downloading aiohappyeyeballs-2.6.1-py3-none-any.whl (15 kB)\n",
      "Downloading aiosignal-1.3.2-py2.py3-none-any.whl (7.6 kB)\n",
      "Downloading frozenlist-1.5.0-cp312-cp312-macosx_11_0_arm64.whl (51 kB)\n",
      "Downloading multidict-6.1.0-cp312-cp312-macosx_11_0_arm64.whl (29 kB)\n",
      "Downloading propcache-0.3.0-cp312-cp312-macosx_11_0_arm64.whl (45 kB)\n",
      "Downloading pytz-2025.1-py2.py3-none-any.whl (507 kB)\n",
      "Downloading tzdata-2025.1-py2.py3-none-any.whl (346 kB)\n",
      "Downloading yarl-1.18.3-cp312-cp312-macosx_11_0_arm64.whl (92 kB)\n",
      "Installing collected packages: pytz, xxhash, tzdata, pyarrow, propcache, multidict, fsspec, frozenlist, dill, aiohappyeyeballs, yarl, pandas, multiprocess, aiosignal, aiohttp, datasets\n",
      "  Attempting uninstall: fsspec\n",
      "    Found existing installation: fsspec 2025.3.0\n",
      "    Uninstalling fsspec-2025.3.0:\n",
      "      Successfully uninstalled fsspec-2025.3.0\n",
      "Successfully installed aiohappyeyeballs-2.6.1 aiohttp-3.11.14 aiosignal-1.3.2 datasets-3.4.0 dill-0.3.8 frozenlist-1.5.0 fsspec-2024.12.0 multidict-6.1.0 multiprocess-0.70.16 pandas-2.2.3 propcache-0.3.0 pyarrow-19.0.1 pytz-2025.1 tzdata-2025.1 xxhash-3.5.0 yarl-1.18.3\n"
     ]
    }
   ],
   "source": [
    "!pip install datasets"
   ]
  },
  {
   "cell_type": "code",
   "execution_count": 3,
   "id": "fb84cb28-cd95-415f-b2c4-a3c7a2e2014a",
   "metadata": {},
   "outputs": [
    {
     "name": "stderr",
     "output_type": "stream",
     "text": [
      "/Library/Frameworks/Python.framework/Versions/3.12/lib/python3.12/site-packages/tqdm/auto.py:21: TqdmWarning: IProgress not found. Please update jupyter and ipywidgets. See https://ipywidgets.readthedocs.io/en/stable/user_install.html\n",
      "  from .autonotebook import tqdm as notebook_tqdm\n",
      "Generating train split: 100%|███████████████████████████████████████████████████████████████████████████████████████████████████████████████████████████████████████████████████████████████████████| 172/172 [00:00<00:00, 16316.93 examples/s]"
     ]
    },
    {
     "name": "stdout",
     "output_type": "stream",
     "text": [
      "DatasetDict({\n",
      "    train: Dataset({\n",
      "        features: ['text'],\n",
      "        num_rows: 172\n",
      "    })\n",
      "})\n"
     ]
    },
    {
     "name": "stderr",
     "output_type": "stream",
     "text": [
      "\n"
     ]
    }
   ],
   "source": [
    "from datasets import load_dataset\n",
    "\n",
    "dataset = load_dataset(\"heliosbrahma/mental_health_chatbot_dataset\")\n",
    "print(dataset)"
   ]
  },
  {
   "cell_type": "code",
   "execution_count": 4,
   "id": "9fc273eb-373d-42ce-a58b-7d5d42fe82b3",
   "metadata": {},
   "outputs": [
    {
     "name": "stdout",
     "output_type": "stream",
     "text": [
      "<HUMAN>: What is a panic attack?\n",
      "<ASSISTANT>: Panic attacks come on suddenly and involve intense and often overwhelming fear. They’re accompanied by very challenging physical symptoms, like a racing heartbeat, shortness of breath, or nausea. Unexpected panic attacks occur without an obvious cause. Expected panic attacks are cued by external stressors, like phobias. Panic attacks can happen to anyone, but having more than one may be a sign of panic disorder, a mental health condition characterized by sudden and repeated panic attacks.\n",
      "--------------------------------------------------------------------------------\n",
      "<HUMAN>: What are symptoms of panic attack vs. anxiety attack?\n",
      "<ASSISTANT>: Panic attacks and anxiety attacks can share some similarities, but they also have distinct features. It's important to remember that I am not a medical professional, and if you or someone you know is experiencing these symptoms, seeking help from a qualified healthcare professional is essential.\n",
      "\n",
      "Panic Attack Symptoms:\n",
      "A panic attack is a sudden and intense surge of fear or discomfort that reaches its peak within minutes. Some common symptoms of a panic attack include:\n",
      "\n",
      "1. Heart palpitations, pounding heart, or accelerated heart rate.\n",
      "2. Sweating or trembling.\n",
      "3. Shortness of breath or feeling smothered.\n",
      "4. Feeling of choking or a lump in the throat.\n",
      "5. Chest pain or discomfort.\n",
      "6. Nausea or abdominal distress.\n",
      "7. Dizziness, lightheadedness, or feeling faint.\n",
      "8. Chills or hot flashes.\n",
      "9. Numbness or tingling sensations.\n",
      "10. Fear of losing control or going crazy.\n",
      "11. Fear of dying.\n",
      "12. A sense of detachment from reality or oneself (depersonalization).\n",
      "13. A feeling of being detached from the surroundings (derealization).\n",
      "\n",
      "It's important to note that panic attacks are often unpredictable and can occur even in situations where there is no immediate danger.\n",
      "\n",
      "Anxiety Attack Symptoms:\n",
      "Anxiety attacks are different from panic attacks in terms of intensity and duration. While panic attacks are sudden and reach their peak rapidly, anxiety attacks are typically associated with prolonged feelings of worry, nervousness, and fear. Symptoms of an anxiety attack may include:\n",
      "\n",
      "1. Excessive worrying or fear about future events or situations.\n",
      "2. Restlessness or feeling on edge.\n",
      "3. Muscle tension or aches.\n",
      "4. Difficulty concentrating or mind going blank.\n",
      "5. Irritability.\n",
      "6. Fatigue or feeling easily fatigued.\n",
      "7. Sleep disturbances, such as difficulty falling asleep or staying asleep.\n",
      "8. Avoidance of triggers or situations that provoke anxiety.\n",
      "\n",
      "Anxiety attacks can be triggered by specific stressors or occur without an apparent cause. They might build up gradually and persist for an extended period.\n",
      "\n",
      "Remember, it's crucial to consult a qualified mental health professional to obtain an accurate diagnosis and receive personalized guidance and support. They can help develop a suitable treatment plan to manage panic attacks, anxiety attacks, or any other mental health concerns you may be facing.\n",
      "--------------------------------------------------------------------------------\n",
      "<HUMAN>: What are the types of Mental Illness?\n",
      "<ASSISTANT>: There are many different conditions that are recognized as mental illnesses. The more common types include:\n",
      "\n",
      "1. Anxiety disorders: People with anxiety disorders respond to certain objects or situations with fear and dread, as well as with physical signs of anxiety or panic, such as a rapid heartbeat and sweating. An anxiety disorder is diagnosed if the person's response is not appropriate for the situation, if the person cannot control the response, or if the anxiety interferes with normal functioning. \n",
      "\n",
      "2. Mood disorders: These disorders, also called affective disorders, involve persistent feelings of sadness or periods of feeling overly happy, or fluctuations from extreme happiness to extreme sadness.\n",
      "\n",
      "3. Psychotic disorders: Psychotic disorders involve distorted awareness and thinking. Two of the most common symptoms of psychotic disorders are hallucinations and delusions. Schizophrenia is an example of a psychotic disorder.\n",
      "\n",
      "4. Eating disorders: Eating disorders involve extreme emotions, attitudes, and behaviors involving weight and food.\n",
      "\n",
      "5. Personality disorders: People with personality disorders have extreme and inflexible personality traits that are distressing to the person and/or cause problems in work, school, or social relationships.\n",
      "\n",
      "6. Obsessive-compulsive disorder (OCD): People with OCD are plagued by constant thoughts or fears that cause them to perform certain rituals or routines. An example is a person with an unreasonable fear of germs who constantly washes their hands.\n",
      "\n",
      "7. Post-traumatic stress disorder (PTSD): PTSD is a condition that can develop following a traumatic and/or terrifying event, such as a sexual or physical assault, the unexpected death of a loved one, or a natural disaster.\n",
      "--------------------------------------------------------------------------------\n",
      "<HUMAN>: What does mental-illness mean?\n",
      "<ASSISTANT>: Mental illness is a group of biological brain disorders that affect a person’s thinking, mood, emotions, sense of reality, ability to relate and daily functioning. Common disorders are anxiety, depression, schizophrenia, bipolar disorder etc. People of all ages are susceptible but adolescents & young adults are especially vulnerable.\n",
      "--------------------------------------------------------------------------------\n",
      "<HUMAN>: How can you treat mental illness?\n",
      "<ASSISTANT>: The treatment of mental illness is a multi-faceted approach that varies depending on the individual's specific condition and needs. Here are some general guidelines and options:\n",
      "\n",
      "1. Seek Professional Help: It's essential to consult a mental health professional, such as a psychiatrist, psychologist, or therapist. They can conduct a thorough evaluation, provide a proper diagnosis, and tailor a treatment plan to address your unique concerns.\n",
      "\n",
      "2. Therapy or Counseling: Different types of therapy, like cognitive-behavioral therapy (CBT), dialectical behavior therapy (DBT), or psychotherapy, can be effective in helping individuals cope with and overcome mental health challenges.\n",
      "\n",
      "3. Medication: In some cases, medication might be prescribed to alleviate symptoms and stabilize your mental health. This should always be done under the guidance of a qualified psychiatrist.\n",
      "\n",
      "4. Lifestyle Changes: Implementing healthy lifestyle choices can significantly impact mental well-being. Regular exercise, a balanced diet, sufficient sleep, and stress reduction techniques can all play a crucial role.\n",
      "\n",
      "5. Social Support: Connecting with friends, family, or support groups can provide a sense of belonging and understanding, which can be beneficial in the recovery process.\n",
      "\n",
      "6. Mindfulness and Relaxation Techniques: Practices like meditation, deep breathing exercises, or yoga can help manage stress and promote a sense of inner calm.\n",
      "\n",
      "7. Identify Triggers and Coping Strategies: Learning to identify triggers that worsen your condition and developing healthy coping mechanisms can empower you to better manage your symptoms.\n",
      "\n",
      "8. Education and Self-Help Resources: Educating yourself about your mental health condition and seeking self-help resources, such as books or online courses, can be empowering and enlightening.\n",
      "\n",
      "Remember, each person's journey to mental health is unique, so it's crucial to be patient with yourself and not compare your progress to others. Recovery is possible, and with the right support and dedication, you can lead a fulfilling life.\n",
      "--------------------------------------------------------------------------------\n"
     ]
    }
   ],
   "source": [
    "for i in range(5):\n",
    "    print(dataset['train'][i]['text'])\n",
    "    print('-' * 80)"
   ]
  },
  {
   "cell_type": "code",
   "execution_count": 5,
   "id": "22550836-79f2-4d88-83b1-b71cf74a6106",
   "metadata": {},
   "outputs": [
    {
     "name": "stdout",
     "output_type": "stream",
     "text": [
      "✅ Cleaned 172 samples successfully!\n"
     ]
    }
   ],
   "source": [
    "from datasets import load_dataset\n",
    "import json\n",
    "\n",
    "# Load the dataset\n",
    "dataset = load_dataset(\"heliosbrahma/mental_health_chatbot_dataset\")['train']\n",
    "\n",
    "# Initialize cleaned data list\n",
    "cleaned_data = []\n",
    "\n",
    "# Parse each entry\n",
    "for entry in dataset:\n",
    "    text = entry['text']\n",
    "    if \"<HUMAN>:\" in text and \"<ASSISTANT>:\" in text:\n",
    "        parts = text.split(\"<ASSISTANT>:\")\n",
    "        question = parts[0].replace(\"<HUMAN>:\", \"\").strip()\n",
    "        answer = parts[1].strip()\n",
    "        cleaned_data.append({\n",
    "            \"instruction\": question,\n",
    "            \"input\": \"\",\n",
    "            \"output\": answer\n",
    "        })\n",
    "\n",
    "# Save to a JSONL file\n",
    "with open(\"cleaned_mental_health_data.jsonl\", \"w\") as f:\n",
    "    for item in cleaned_data:\n",
    "        f.write(json.dumps(item) + \"\\n\")\n",
    "\n",
    "print(f\"✅ Cleaned {len(cleaned_data)} samples successfully!\")"
   ]
  },
  {
   "cell_type": "code",
   "execution_count": 6,
   "id": "b1862d77-e16c-4240-8488-a94d205c96d9",
   "metadata": {},
   "outputs": [
    {
     "name": "stdout",
     "output_type": "stream",
     "text": [
      "✅ JSON file saved successfully!\n"
     ]
    }
   ],
   "source": [
    "import json\n",
    "\n",
    "# Save to a JSON file\n",
    "with open(\"cleaned_mental_health_dataset.json\", \"w\", encoding=\"utf-8\") as f:\n",
    "    json.dump(cleaned_data, f, ensure_ascii=False, indent=4)\n",
    "\n",
    "print(\"✅ JSON file saved successfully!\")"
   ]
  },
  {
   "cell_type": "code",
   "execution_count": null,
   "id": "693e9bfe-33f4-4dd2-a1f4-301eba29f471",
   "metadata": {},
   "outputs": [],
   "source": []
  }
 ],
 "metadata": {
  "kernelspec": {
   "display_name": "Python 3 (ipykernel)",
   "language": "python",
   "name": "python3"
  },
  "language_info": {
   "codemirror_mode": {
    "name": "ipython",
    "version": 3
   },
   "file_extension": ".py",
   "mimetype": "text/x-python",
   "name": "python",
   "nbconvert_exporter": "python",
   "pygments_lexer": "ipython3",
   "version": "3.12.0"
  }
 },
 "nbformat": 4,
 "nbformat_minor": 5
}
