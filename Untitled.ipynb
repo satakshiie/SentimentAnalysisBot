{
 "cells": [
  {
   "cell_type": "code",
   "execution_count": 1,
   "id": "1a3e8065-03fa-4b24-b9e3-384b52c2c9b8",
   "metadata": {},
   "outputs": [
    {
     "name": "stdout",
     "output_type": "stream",
     "text": [
      "✅ Sample symptom dataset generated and saved as 'cleaned_symptom_dataset.csv'\n"
     ]
    }
   ],
   "source": [
    "import pandas as pd\n",
    "\n",
    "# Sample data\n",
    "data = {\n",
    "    \"text\": [\n",
    "        \"I feel overwhelmed and my heart races all the time.\",\n",
    "        \"Nothing feels good anymore, I’m always sad.\",\n",
    "        \"I have trouble sleeping and feel anxious all the time.\",\n",
    "        \"I cry often and feel hopeless about life.\",\n",
    "        \"Deadlines are stressing me out and I can’t focus.\",\n",
    "        \"I feel nervous in social situations.\",\n",
    "        \"I'm tired of everything and I don't see the point in trying.\",\n",
    "        \"I’m constantly stressed about exams and future.\",\n",
    "        \"I feel a tightness in my chest and worry a lot.\",\n",
    "        \"Everything feels numb and I have no motivation.\"\n",
    "    ],\n",
    "    \"anxiety\":    [1, 0, 1, 0, 1, 1, 0, 1, 1, 0],\n",
    "    \"depression\": [0, 1, 0, 1, 0, 0, 1, 0, 0, 1],\n",
    "    \"stress\":     [1, 0, 1, 1, 1, 0, 0, 1, 1, 1]\n",
    "}\n",
    "\n",
    "# Convert to DataFrame\n",
    "df = pd.DataFrame(data)\n",
    "\n",
    "# Save to CSV\n",
    "df.to_csv(\"cleaned_symptom_dataset.csv\", index=False)\n",
    "\n",
    "print(\"✅ Sample symptom dataset generated and saved as 'cleaned_symptom_dataset.csv'\")"
   ]
  },
  {
   "cell_type": "code",
   "execution_count": 2,
   "id": "b5f81bf3-7b58-4e6c-bdf6-497e8ca333b5",
   "metadata": {},
   "outputs": [
    {
     "data": {
      "text/html": [
       "<div>\n",
       "<style scoped>\n",
       "    .dataframe tbody tr th:only-of-type {\n",
       "        vertical-align: middle;\n",
       "    }\n",
       "\n",
       "    .dataframe tbody tr th {\n",
       "        vertical-align: top;\n",
       "    }\n",
       "\n",
       "    .dataframe thead th {\n",
       "        text-align: right;\n",
       "    }\n",
       "</style>\n",
       "<table border=\"1\" class=\"dataframe\">\n",
       "  <thead>\n",
       "    <tr style=\"text-align: right;\">\n",
       "      <th></th>\n",
       "      <th>text</th>\n",
       "      <th>anxiety</th>\n",
       "      <th>depression</th>\n",
       "      <th>stress</th>\n",
       "    </tr>\n",
       "  </thead>\n",
       "  <tbody>\n",
       "    <tr>\n",
       "      <th>0</th>\n",
       "      <td>I feel overwhelmed and my heart races all the ...</td>\n",
       "      <td>1</td>\n",
       "      <td>0</td>\n",
       "      <td>1</td>\n",
       "    </tr>\n",
       "    <tr>\n",
       "      <th>1</th>\n",
       "      <td>Nothing feels good anymore, I’m always sad.</td>\n",
       "      <td>0</td>\n",
       "      <td>1</td>\n",
       "      <td>0</td>\n",
       "    </tr>\n",
       "    <tr>\n",
       "      <th>2</th>\n",
       "      <td>I have trouble sleeping and feel anxious all t...</td>\n",
       "      <td>1</td>\n",
       "      <td>0</td>\n",
       "      <td>1</td>\n",
       "    </tr>\n",
       "    <tr>\n",
       "      <th>3</th>\n",
       "      <td>I cry often and feel hopeless about life.</td>\n",
       "      <td>0</td>\n",
       "      <td>1</td>\n",
       "      <td>1</td>\n",
       "    </tr>\n",
       "    <tr>\n",
       "      <th>4</th>\n",
       "      <td>Deadlines are stressing me out and I can’t focus.</td>\n",
       "      <td>1</td>\n",
       "      <td>0</td>\n",
       "      <td>1</td>\n",
       "    </tr>\n",
       "  </tbody>\n",
       "</table>\n",
       "</div>"
      ],
      "text/plain": [
       "                                                text  anxiety  depression  \\\n",
       "0  I feel overwhelmed and my heart races all the ...        1           0   \n",
       "1        Nothing feels good anymore, I’m always sad.        0           1   \n",
       "2  I have trouble sleeping and feel anxious all t...        1           0   \n",
       "3          I cry often and feel hopeless about life.        0           1   \n",
       "4  Deadlines are stressing me out and I can’t focus.        1           0   \n",
       "\n",
       "   stress  \n",
       "0       1  \n",
       "1       0  \n",
       "2       1  \n",
       "3       1  \n",
       "4       1  "
      ]
     },
     "execution_count": 2,
     "metadata": {},
     "output_type": "execute_result"
    }
   ],
   "source": [
    "import pandas as pd\n",
    "\n",
    "df = pd.read_csv(\"cleaned_symptom_dataset.csv\")\n",
    "df.head()"
   ]
  },
  {
   "cell_type": "code",
   "execution_count": 3,
   "id": "ab255a02-f6e4-45f3-9ca8-58afa977c4a3",
   "metadata": {},
   "outputs": [],
   "source": [
    "# New data entries\n",
    "new_data = {\n",
    "    \"text\": [\n",
    "        \"I'm so angry, I just want to scream.\",\n",
    "        \"Why does everything annoy me these days? It's so frustrating!\",\n",
    "        \"They never listen to me, and it makes me furious.\",\n",
    "        \"I'm done pretending everything is okay when I'm clearly not.\",\n",
    "        \"I get irritated at the smallest things lately.\",\n",
    "        \"Every little mistake makes me lose my temper.\",\n",
    "        \"It’s frustrating when nothing goes the way I plan.\",\n",
    "        \"I feel like I’m going to explode from all the anger inside me.\",\n",
    "        \"I’m anxious and angry at the same time, it’s exhausting.\",\n",
    "        \"I feel sad, frustrated, and just want to disappear.\",\n",
    "        \"My mind won’t stop racing and I’m always on edge.\",\n",
    "        \"I want to cry and scream at the same time.\",\n",
    "        \"Hi there, how’s it going?\",\n",
    "        \"Good morning! What’s your plan today?\",\n",
    "        \"Hello! I just wanted to say hi.\",\n",
    "        \"I’m feeling okay today, nothing major going on.\"\n",
    "    ],\n",
    "    \"anxiety\":     [0, 0, 0, 0, 0, 0, 0, 0, 1, 0, 1, 1, 0, 0, 0, 0],\n",
    "    \"depression\":  [0, 0, 0, 1, 0, 0, 0, 0, 0, 1, 0, 1, 0, 0, 0, 0],\n",
    "    \"stress\":      [1, 1, 1, 1, 1, 1, 1, 1, 1, 1, 1, 1, 0, 0, 0, 0],\n",
    "    \"anger\":       [1, 1, 1, 1, 1, 1, 0, 1, 1, 0, 0, 1, 0, 0, 0, 0],\n",
    "    \"frustration\": [0, 1, 1, 1, 1, 0, 1, 0, 1, 1, 1, 1, 0, 0, 0, 0]\n",
    "}\n",
    "\n",
    "new_df = pd.DataFrame(new_data)"
   ]
  },
  {
   "cell_type": "code",
   "execution_count": 4,
   "id": "08ae1968-9958-4874-b723-388b2dfcda3b",
   "metadata": {},
   "outputs": [
    {
     "name": "stdout",
     "output_type": "stream",
     "text": [
      "✅ cleaned_symptom_dataset.csv updated successfully!\n"
     ]
    }
   ],
   "source": [
    "# Combine original and new data\n",
    "updated_df = pd.concat([df, new_df], ignore_index=True)\n",
    "\n",
    "# Save to the same file\n",
    "updated_df.to_csv(\"cleaned_symptom_dataset.csv\", index=False)\n",
    "\n",
    "print(\"✅ cleaned_symptom_dataset.csv updated successfully!\")"
   ]
  },
  {
   "cell_type": "code",
   "execution_count": 5,
   "id": "bca38152-ce5e-48f1-af24-a5da626357a1",
   "metadata": {},
   "outputs": [
    {
     "name": "stdout",
     "output_type": "stream",
     "text": [
      "text          0\n",
      "anxiety       0\n",
      "depression    0\n",
      "stress        0\n",
      "dtype: int64\n"
     ]
    }
   ],
   "source": [
    "print(df.isnull().sum())  # This will show the count of NaN values in each column"
   ]
  },
  {
   "cell_type": "code",
   "execution_count": 6,
   "id": "baf978c6-df4b-403c-a2b8-d7000e0934e8",
   "metadata": {},
   "outputs": [
    {
     "name": "stdout",
     "output_type": "stream",
     "text": [
      "[1 0]\n",
      "[0 1]\n",
      "[1 0]\n"
     ]
    }
   ],
   "source": [
    "print(df[\"anxiety\"].unique())  # Check unique values in \"anxiety\" column\n",
    "print(df[\"depression\"].unique())  # Check unique values in \"depression\" column\n",
    "print(df[\"stress\"].unique())  # Check unique values in \"stress\" column"
   ]
  },
  {
   "cell_type": "code",
   "execution_count": 8,
   "id": "40394207-21e7-4f99-b5c0-5182bb393bd0",
   "metadata": {},
   "outputs": [
    {
     "ename": "NameError",
     "evalue": "name 'x' is not defined",
     "output_type": "error",
     "traceback": [
      "\u001b[31m---------------------------------------------------------------------------\u001b[39m",
      "\u001b[31mNameError\u001b[39m                                 Traceback (most recent call last)",
      "\u001b[36mCell\u001b[39m\u001b[36m \u001b[39m\u001b[32mIn[8]\u001b[39m\u001b[32m, line 1\u001b[39m\n\u001b[32m----> \u001b[39m\u001b[32m1\u001b[39m \u001b[38;5;28mprint\u001b[39m(\u001b[43mx\u001b[49m.head())  \u001b[38;5;66;03m# Print first few rows to check\u001b[39;00m\n\u001b[32m      2\u001b[39m \u001b[38;5;28mprint\u001b[39m(x.shape)   \u001b[38;5;66;03m# Check the shape of your input data (should be (num_samples,))\u001b[39;00m\n",
      "\u001b[31mNameError\u001b[39m: name 'x' is not defined"
     ]
    }
   ],
   "source": [
    "print(x.head())  # Print first few rows to check\n",
    "print(x.shape)   # Check the shape of your input data (should be (num_samples,))"
   ]
  },
  {
   "cell_type": "code",
   "execution_count": 9,
   "id": "3a4249c5-aee3-4856-a74e-8cdb4411fe10",
   "metadata": {},
   "outputs": [
    {
     "name": "stdout",
     "output_type": "stream",
     "text": [
      "text            0\n",
      "anxiety         0\n",
      "depression      0\n",
      "stress          0\n",
      "anger          10\n",
      "frustration    10\n",
      "dtype: int64\n"
     ]
    }
   ],
   "source": [
    "import pandas as pd\n",
    "\n",
    "# Load the existing dataset\n",
    "df = pd.read_csv(\"cleaned_symptom_dataset.csv\")\n",
    "\n",
    "# Check for any missing values\n",
    "print(df.isnull().sum())"
   ]
  },
  {
   "cell_type": "code",
   "execution_count": 10,
   "id": "fe633d83-c9ff-4477-806a-374f9deb8653",
   "metadata": {},
   "outputs": [
    {
     "name": "stdout",
     "output_type": "stream",
     "text": [
      "                                        text  anxiety  depression  stress  \\\n",
      "27         Everything's fine, how about you?        0           0       0   \n",
      "28  Not much happening today, just relaxing.        0           0       0   \n",
      "29      It's a regular day, nothing special.        0           0       0   \n",
      "30   Feeling good, just enjoying the moment.        0           0       0   \n",
      "31         I'm alright, just taking it easy.        0           0       0   \n",
      "\n",
      "    anger  frustration  \n",
      "27    0.0          0.0  \n",
      "28    0.0          0.0  \n",
      "29    0.0          0.0  \n",
      "30    0.0          0.0  \n",
      "31    0.0          0.0  \n"
     ]
    }
   ],
   "source": [
    "# Add some neutral statements (can be customized or expanded further)\n",
    "neutral_data = [\n",
    "    \"I'm doing okay, just getting through the day.\",\n",
    "    \"Everything's fine, how about you?\",\n",
    "    \"Not much happening today, just relaxing.\",\n",
    "    \"It's a regular day, nothing special.\",\n",
    "    \"Feeling good, just enjoying the moment.\",\n",
    "    \"I'm alright, just taking it easy.\"\n",
    "]\n",
    "\n",
    "# Create corresponding labels (all zeroes, indicating no symptoms)\n",
    "neutral_labels = {\n",
    "    \"anxiety\": [0] * len(neutral_data),\n",
    "    \"depression\": [0] * len(neutral_data),\n",
    "    \"stress\": [0] * len(neutral_data),\n",
    "    \"anger\": [0] * len(neutral_data),\n",
    "    \"frustration\": [0] * len(neutral_data)\n",
    "}\n",
    "\n",
    "# Create a DataFrame for the neutral statements\n",
    "neutral_df = pd.DataFrame(neutral_labels)\n",
    "neutral_df[\"text\"] = neutral_data\n",
    "\n",
    "# Append the neutral data to your existing dataset\n",
    "df_combined = pd.concat([df, neutral_df], ignore_index=True)\n",
    "\n",
    "# Verify the new dataset\n",
    "print(df_combined.tail())"
   ]
  },
  {
   "cell_type": "code",
   "execution_count": 11,
   "id": "8d5e38b6-1ef7-4150-a0fc-7a25e24ec42f",
   "metadata": {},
   "outputs": [
    {
     "name": "stdout",
     "output_type": "stream",
     "text": [
      "✅ Updated dataset saved as 'updated_cleaned_symptom_dataset.csv'\n"
     ]
    }
   ],
   "source": [
    "# Save the updated dataset to a new CSV\n",
    "df_combined.to_csv(\"updated_cleaned_symptom_dataset.csv\", index=False)\n",
    "print(\"✅ Updated dataset saved as 'updated_cleaned_symptom_dataset.csv'\")"
   ]
  },
  {
   "cell_type": "code",
   "execution_count": null,
   "id": "30f94213-0aa7-4cf0-87b4-6b9625504432",
   "metadata": {},
   "outputs": [],
   "source": []
  }
 ],
 "metadata": {
  "kernelspec": {
   "display_name": "Python 3 (ipykernel)",
   "language": "python",
   "name": "python3"
  },
  "language_info": {
   "codemirror_mode": {
    "name": "ipython",
    "version": 3
   },
   "file_extension": ".py",
   "mimetype": "text/x-python",
   "name": "python",
   "nbconvert_exporter": "python",
   "pygments_lexer": "ipython3",
   "version": "3.12.0"
  }
 },
 "nbformat": 4,
 "nbformat_minor": 5
}
